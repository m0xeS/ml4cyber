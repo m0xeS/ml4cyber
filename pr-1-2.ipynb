{
 "cells": [
  {
   "cell_type": "markdown",
   "metadata": {},
   "source": [
    "Импорт библиотеки\n"
   ]
  },
  {
   "cell_type": "code",
   "execution_count": 1,
   "metadata": {},
   "outputs": [],
   "source": [
    "import numpy as np"
   ]
  },
  {
   "cell_type": "markdown",
   "metadata": {},
   "source": [
    "### 1. Докажите, что транспонирование транспонированной матрицы - это сама матрица: $(\\mathbf{A}^\\top)^\\top = \\mathbf{A}$."
   ]
  },
  {
   "cell_type": "code",
   "execution_count": 6,
   "metadata": {},
   "outputs": [
    {
     "name": "stdout",
     "output_type": "stream",
     "text": [
      "[[0 1 2]\n",
      " [3 4 5]\n",
      " [6 7 8]]\n",
      "[[0 1 2]\n",
      " [3 4 5]\n",
      " [6 7 8]]\n"
     ]
    },
    {
     "data": {
      "text/plain": [
       "True"
      ]
     },
     "execution_count": 6,
     "metadata": {},
     "output_type": "execute_result"
    }
   ],
   "source": [
    "A = np.arange(9).reshape(3, 3)\n",
    "A_tt = (A.T).T\n",
    "print(A)\n",
    "print(A_tt)\n",
    "np.array_equal(A, A_tt)"
   ]
  },
  {
   "cell_type": "markdown",
   "metadata": {},
   "source": [
    "### 2. Для двух матриц $\\mathbf{A}$ и $\\mathbf{B}$, покажите, что сумма и транспозиция коммутируют: $\\mathbf{A}^\\top + \\mathbf{B}^\\top = (\\mathbf{A} + \\mathbf{B})^\\top$."
   ]
  },
  {
   "cell_type": "code",
   "execution_count": 8,
   "metadata": {},
   "outputs": [
    {
     "name": "stdout",
     "output_type": "stream",
     "text": [
      "[[10 13 10]\n",
      " [14 10  7]\n",
      " [16  9  9]]\n",
      "[[10 13 10]\n",
      " [14 10  7]\n",
      " [16  9  9]]\n"
     ]
    },
    {
     "data": {
      "text/plain": [
       "True"
      ]
     },
     "execution_count": 8,
     "metadata": {},
     "output_type": "execute_result"
    }
   ],
   "source": [
    "A = np.random.randint(1, 10, size=(3,3))\n",
    "B = np.random.randint(1, 10, size=(3,3))\n",
    "print(A.T + B.T)\n",
    "print((A+B).T)\n",
    "np.array_equal(A.T + B.T, (A+B).T)"
   ]
  },
  {
   "cell_type": "markdown",
   "metadata": {},
   "source": [
    "### 3. Для любой квадратичной матрицы $\\mathbf{A}$, сумма матриц $\\mathbf{A} + \\mathbf{A}^\\top$ всегда ли симметрична? Можете ли вы доказать это, используя только предыдущие два упражнения?"
   ]
  },
  {
   "cell_type": "code",
   "execution_count": 9,
   "metadata": {},
   "outputs": [
    {
     "name": "stdout",
     "output_type": "stream",
     "text": [
      "[[12 10 13]\n",
      " [10  6  8]\n",
      " [13  8  6]]\n",
      "[[12 10 13]\n",
      " [10  6  8]\n",
      " [13  8  6]]\n"
     ]
    },
    {
     "data": {
      "text/plain": [
       "True"
      ]
     },
     "execution_count": 9,
     "metadata": {},
     "output_type": "execute_result"
    }
   ],
   "source": [
    "A = np.random.randint(1, 10, size=(3,3))\n",
    "print(A+A.T)\n",
    "print((A+A.T).T)\n",
    "\n",
    "np.array_equal(A+A.T, (A+A.T).T)"
   ]
  },
  {
   "cell_type": "markdown",
   "metadata": {},
   "source": [
    "### 4. Мы определяли тензор `X` размерности (2, 3, 4). Что возвращает функция `len(X)`? Попробуйте записать ответ используя воображение, потом проверьте свой ответ в среде программирования. "
   ]
  },
  {
   "cell_type": "code",
   "execution_count": 10,
   "metadata": {},
   "outputs": [
    {
     "name": "stdout",
     "output_type": "stream",
     "text": [
      "2\n"
     ]
    }
   ],
   "source": [
    "X = np.random.rand(2,3,4)\n",
    "print(len(X))"
   ]
  },
  {
   "cell_type": "markdown",
   "metadata": {},
   "source": [
    "### 5. Для тензора `X` произвольной размерности, всегда ли функция `len(X)` возвращает длину тензора по оси `X`? Что такое ось?"
   ]
  },
  {
   "cell_type": "code",
   "execution_count": 11,
   "metadata": {},
   "outputs": [
    {
     "name": "stdout",
     "output_type": "stream",
     "text": [
      "(1, 2, 3) : 1\n",
      "(3, 2, 3, 4) : 3\n",
      "(5, 4, 2, 1, 4) : 5\n",
      "(2, 6, 3, 3, 3, 3) : 2\n",
      "(4, 5, 1, 2, 3, 4, 1) : 4\n"
     ]
    }
   ],
   "source": [
    "X = np.random.rand(1,2,3)\n",
    "print(X.shape, ':', len(X))\n",
    "X = np.random.rand(3,2,3,4)\n",
    "print(X.shape, ':', len(X))\n",
    "X = np.random.rand(5,4,2,1,4)\n",
    "print(X.shape, ':', len(X))\n",
    "X = np.random.rand(2,6,3,3,3,3)\n",
    "print(X.shape, ':', len(X))\n",
    "X = np.random.rand(4,5,1,2,3,4,1)\n",
    "print(X.shape, ':', len(X))"
   ]
  },
  {
   "cell_type": "markdown",
   "metadata": {},
   "source": [
    "### 6. Запустите следующий фрагмент кода `A / A.sum(axis=1)` и проверьте полученный результат. Можете пояснить причину?"
   ]
  },
  {
   "cell_type": "code",
   "execution_count": 13,
   "metadata": {},
   "outputs": [
    {
     "name": "stdout",
     "output_type": "stream",
     "text": [
      "[[0 1 2]\n",
      " [3 4 5]\n",
      " [6 7 8]]\n",
      "[ 3 12 21]\n"
     ]
    },
    {
     "data": {
      "text/plain": [
       "array([[0.        , 0.08333333, 0.0952381 ],\n",
       "       [1.        , 0.33333333, 0.23809524],\n",
       "       [2.        , 0.58333333, 0.38095238]])"
      ]
     },
     "execution_count": 13,
     "metadata": {},
     "output_type": "execute_result"
    }
   ],
   "source": [
    "A = np.arange(9).reshape(3,3)\n",
    "print(A)\n",
    "print(A.sum(axis=1))\n",
    "\n",
    "A / A.sum(axis=1)\n"
   ]
  },
  {
   "cell_type": "markdown",
   "metadata": {},
   "source": [
    "При делении массив сумм имеет неправильную форму, её нужно изменить"
   ]
  },
  {
   "cell_type": "code",
   "execution_count": 14,
   "metadata": {},
   "outputs": [
    {
     "data": {
      "text/plain": [
       "array([[0.        , 0.33333333, 0.66666667],\n",
       "       [0.25      , 0.33333333, 0.41666667],\n",
       "       [0.28571429, 0.33333333, 0.38095238]])"
      ]
     },
     "execution_count": 14,
     "metadata": {},
     "output_type": "execute_result"
    }
   ],
   "source": [
    "sum_correct = A.sum(axis=1).reshape(3, 1)\n",
    "result = A / sum_correct\n",
    "result"
   ]
  },
  {
   "cell_type": "markdown",
   "metadata": {},
   "source": [
    "### 7. Рассмотрим тензор размерности (2, 3, 4). Какие размерности можно получить при суммирования элементов тензора по осям 0, 1 и 2?"
   ]
  },
  {
   "cell_type": "code",
   "execution_count": 15,
   "metadata": {},
   "outputs": [
    {
     "name": "stdout",
     "output_type": "stream",
     "text": [
      "[[[0.75671584 0.55921681 0.76619685 0.99929092]\n",
      "  [0.72432712 0.40204954 0.58957274 0.32034483]\n",
      "  [0.4098178  0.43208792 0.35823349 0.35196886]]\n",
      "\n",
      " [[0.71032538 0.28555953 0.43696131 0.89364656]\n",
      "  [0.23323222 0.24557325 0.7204394  0.92521673]\n",
      "  [0.09838948 0.51921755 0.01656841 0.43868908]]]\n",
      "(3, 4)\n",
      "(2, 4)\n",
      "(2, 3)\n"
     ]
    }
   ],
   "source": [
    "X = np.random.rand(2,3,4)\n",
    "\n",
    "print(X)\n",
    "print(X.sum(axis=0).shape)\n",
    "print(X.sum(axis=1).shape)\n",
    "print(X.sum(axis=2).shape)"
   ]
  },
  {
   "cell_type": "markdown",
   "metadata": {},
   "source": [
    "### 9. Передайте тензор с 3 или более осями в функцию `linalg.norm` и наблюдайте за его выводом. Что эта функция вычисляет для тензоров произвольной формы?"
   ]
  },
  {
   "cell_type": "code",
   "execution_count": 17,
   "metadata": {},
   "outputs": [
    {
     "name": "stdout",
     "output_type": "stream",
     "text": [
      "[[[[0.09674696 0.24563991 0.9140795  0.11170627]\n",
      "   [0.83686968 0.25278586 0.75137808 0.38232908]\n",
      "   [0.60358174 0.39502471 0.03642683 0.80394616]]\n",
      "\n",
      "  [[0.55058879 0.39412684 0.72630751 0.10313785]\n",
      "   [0.98876971 0.0092901  0.39826174 0.10714583]\n",
      "   [0.94712936 0.68713325 0.00701511 0.95298754]]]]\n"
     ]
    },
    {
     "data": {
      "text/plain": [
       "2.8253593563711754"
      ]
     },
     "execution_count": 17,
     "metadata": {},
     "output_type": "execute_result"
    }
   ],
   "source": [
    "X = np.random.rand(1,2,3,4)\n",
    "\n",
    "print(X)\n",
    "\n",
    "np.linalg.norm(X)"
   ]
  },
  {
   "cell_type": "markdown",
   "metadata": {},
   "source": [
    "Функция вычисляет форму Фробениуса для данного тензора"
   ]
  },
  {
   "cell_type": "markdown",
   "metadata": {},
   "source": [
    "### 10. Определите 3 матрицы $\\mathbf{A} \\in \\mathbb{R}^{2^{10} \\times 2^{16}}$, $\\mathbf{B} \\in \\mathbb{R}^{2^{16} \\times 2^{5}}$ и $\\mathbf{C} \\in \\mathbb{R}^{2^{5} \\times 2^{14}}$, содержащие случайные переменные, распределенные по нормальному закону распределения. Вычислите произведение матриц: $\\mathbf{A} \\mathbf{B} \\mathbf{C}$. Есть ли какая-либо разница в объеме памяти и скорости в зависимости от того, вычилсяете Вы $(\\mathbf{A} \\mathbf{B}) \\mathbf{C}$ или $\\mathbf{A} (\\mathbf{B} \\mathbf{C})$. Объясните результаты?"
   ]
  },
  {
   "cell_type": "code",
   "execution_count": 19,
   "metadata": {},
   "outputs": [],
   "source": [
    "%load_ext memory_profiler\n",
    "\n",
    "A = np.random.normal(0, 0.1, (2**10, 2**16))\n",
    "B = np.random.normal(0, 0.1, (2**16, 2**5))\n",
    "C = np.random.normal(0, 0.1, (2**5, 2**14))"
   ]
  },
  {
   "cell_type": "code",
   "execution_count": 20,
   "metadata": {},
   "outputs": [
    {
     "name": "stdout",
     "output_type": "stream",
     "text": [
      "peak memory: 776.23 MiB, increment: 155.75 MiB\n",
      "252 ms ± 0 ns per loop (mean ± std. dev. of 1 run, 1 loop each)\n"
     ]
    }
   ],
   "source": [
    "%%timeit -n 1 -r 1\n",
    "%%memit\n",
    "A.dot(B).dot(C)"
   ]
  },
  {
   "cell_type": "code",
   "execution_count": 21,
   "metadata": {},
   "outputs": [
    {
     "name": "stdout",
     "output_type": "stream",
     "text": [
      "peak memory: 9017.34 MiB, increment: 8368.82 MiB\n",
      "13.7 s ± 0 ns per loop (mean ± std. dev. of 1 run, 1 loop each)\n"
     ]
    }
   ],
   "source": [
    "%%timeit -n 1 -r 1\n",
    "%%memit\n",
    "A.dot(B.dot(C))"
   ]
  },
  {
   "cell_type": "markdown",
   "metadata": {},
   "source": [
    "Вычисление произведения в порядке A(BC) занимает значительно больше времени и памяти из-за большей размерности вычисляемых произведений (количество строк и столбцов в получаяющихся матрицах больше, чем в первом способе)"
   ]
  },
  {
   "cell_type": "markdown",
   "metadata": {},
   "source": [
    "### 11. Определите 3 матрицы $\\mathbf{A} \\in \\mathbb{R}^{2^{10} \\times 2^{16}}$, $\\mathbf{B} \\in \\mathbb{R}^{2^{16} \\times 2^{5}}$ and $\\mathbf{C} \\in \\mathbb{R}^{2^{5} \\times 2^{16}}$. Есть ли какая-либо разница в объеме памяти и скорости в зависимости от того, вычисляете Вы $\\mathbf{A} \\mathbf{B}$ или $\\mathbf{A} \\mathbf{C}^\\top$? Объясните результаты? Что изменится, если обозначить $\\mathbf{C} = \\mathbf{B}^\\top$ без процедуры клонирования памяти? "
   ]
  },
  {
   "cell_type": "code",
   "execution_count": 22,
   "metadata": {},
   "outputs": [],
   "source": [
    "A = np.random.normal(0, 0.1, (2**10, 2**16))\n",
    "B = np.random.normal(0, 0.1, (2**16, 2**5))\n",
    "C = np.random.normal(0, 0.1, (2**5, 2**16))"
   ]
  },
  {
   "cell_type": "code",
   "execution_count": 30,
   "metadata": {},
   "outputs": [
    {
     "name": "stdout",
     "output_type": "stream",
     "text": [
      "peak memory: 709.55 MiB, increment: 0.00 MiB\n",
      "1.57 s ± 0 ns per loop (mean ± std. dev. of 1 run, 1 loop each)\n"
     ]
    }
   ],
   "source": [
    "%%timeit -n 1 -r 1\n",
    "%%memit\n",
    "A.dot(B)"
   ]
  },
  {
   "cell_type": "code",
   "execution_count": 29,
   "metadata": {},
   "outputs": [
    {
     "name": "stdout",
     "output_type": "stream",
     "text": [
      "peak memory: 709.55 MiB, increment: 0.00 MiB\n",
      "863 ms ± 0 ns per loop (mean ± std. dev. of 1 run, 1 loop each)\n"
     ]
    }
   ],
   "source": [
    "%%timeit -n 1 -r 1\n",
    "%%memit\n",
    "A.dot(C.T)"
   ]
  },
  {
   "cell_type": "code",
   "execution_count": 31,
   "metadata": {},
   "outputs": [
    {
     "name": "stdout",
     "output_type": "stream",
     "text": [
      "peak memory: 709.55 MiB, increment: 0.00 MiB\n",
      "831 ms ± 0 ns per loop (mean ± std. dev. of 1 run, 1 loop each)\n"
     ]
    }
   ],
   "source": [
    "%%timeit -n 1 -r 1\n",
    "%%memit\n",
    "A.dot(B.T.T)"
   ]
  },
  {
   "cell_type": "markdown",
   "metadata": {},
   "source": [
    "Вычисление $\\mathbf{A} \\mathbf{B}$ занимает больше времени. Видимо, транспонированные матрицы обрабатываются быстрее при вычислениях. Если заменить C на B^T, то время так же снижается."
   ]
  },
  {
   "cell_type": "markdown",
   "metadata": {},
   "source": [
    "### 12. Определите 3 матрицы $\\mathbf{A}, \\mathbf{B}, \\mathbf{C} \\in \\mathbb{R}^{100 \\times 200}$. Сформируйте тензор с 3-мя осями путем объединения матриц $[\\mathbf{A}, \\mathbf{B}, \\mathbf{C}]$. Какова размерность софрмирвоанного тензора? Вырежьте вторую координату третьей оси, чтобы восстановить $\\mathbf{B}$. Проверьте, что ваш ответ правильный."
   ]
  },
  {
   "cell_type": "code",
   "execution_count": 32,
   "metadata": {},
   "outputs": [
    {
     "name": "stdout",
     "output_type": "stream",
     "text": [
      "(3, 100, 200)\n"
     ]
    },
    {
     "data": {
      "text/plain": [
       "True"
      ]
     },
     "execution_count": 32,
     "metadata": {},
     "output_type": "execute_result"
    }
   ],
   "source": [
    "A = np.random.normal(0, 0.1, (100, 200))\n",
    "B = np.random.normal(0, 0.1, (100, 200))\n",
    "C = np.random.normal(0, 0.1, (100, 200))\n",
    "\n",
    "tensor = np.stack([A, B, C], axis=0)\n",
    "print(tensor.shape)\n",
    "\n",
    "B_new = tensor[1,]\n",
    "np.array_equal(B, B_new)"
   ]
  }
 ],
 "metadata": {
  "kernelspec": {
   "display_name": "ml4cyber-prz1",
   "language": "python",
   "name": "python3"
  },
  "language_info": {
   "codemirror_mode": {
    "name": "ipython",
    "version": 3
   },
   "file_extension": ".py",
   "mimetype": "text/x-python",
   "name": "python",
   "nbconvert_exporter": "python",
   "pygments_lexer": "ipython3",
   "version": "3.8.10"
  }
 },
 "nbformat": 4,
 "nbformat_minor": 2
}
